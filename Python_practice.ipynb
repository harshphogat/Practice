{
  "nbformat": 4,
  "nbformat_minor": 0,
  "metadata": {
    "colab": {
      "provenance": [],
      "authorship_tag": "ABX9TyOc8akS48d3syNChVT5sf3Q",
      "include_colab_link": true
    },
    "kernelspec": {
      "name": "python3",
      "display_name": "Python 3"
    },
    "language_info": {
      "name": "python"
    }
  },
  "cells": [
    {
      "cell_type": "markdown",
      "metadata": {
        "id": "view-in-github",
        "colab_type": "text"
      },
      "source": [
        "<a href=\"https://colab.research.google.com/github/harshphogat/Practice/blob/main/Python_practice.ipynb\" target=\"_parent\"><img src=\"https://colab.research.google.com/assets/colab-badge.svg\" alt=\"Open In Colab\"/></a>"
      ]
    },
    {
      "cell_type": "markdown",
      "source": [
        "**3396. Minimum Number of Operations to Make Elements in Array Distinct**\n",
        "\n",
        "You are given an integer array nums. You need to ensure that the elements in the array are distinct. To achieve this, you can perform the following operation any number of times:\n",
        "\n",
        "\n",
        "*   Remove 3 elements from the beginning of the array. If the array has fewer than 3 elements, remove all remaining elements.\n",
        "\n",
        "\n",
        "Note that an empty array is considered to have distinct elements. Return the minimum number of operations needed to make the elements in the array distinct."
      ],
      "metadata": {
        "id": "HyMohi4UMtNq"
      }
    },
    {
      "cell_type": "code",
      "execution_count": null,
      "metadata": {
        "id": "uq457zRGMkKw"
      },
      "outputs": [],
      "source": [
        "class Solution:\n",
        "    def minimumOperations(self, nums: List[int]) -> int:\n",
        "        count = 0\n",
        "        for num in nums:\n",
        "            if (len(set(nums)) != len(nums)):\n",
        "                nums = nums[3:]\n",
        "                count +=1\n",
        "            else:\n",
        "                break\n",
        "        return count"
      ]
    },
    {
      "cell_type": "markdown",
      "source": [
        "*In this code using set to get a list of **Unique values** and if the lentgh of the unique list is same as len of nums meaning no same element is present and the loop will break, else it will remove the first 3 elements and continue with the remaining list.*"
      ],
      "metadata": {
        "id": "hJ8f7MKZNOe-"
      }
    },
    {
      "cell_type": "markdown",
      "source": [
        "**3375. Minimum Operations to Make Array Values Equal to K**\n",
        "You are given an integer array nums and an integer k.\n",
        "\n",
        "An integer h is called valid if all values in the array that are strictly greater than h are identical.\n",
        "\n",
        "For example, if nums = [10, 8, 10, 8], a valid integer is h = 9 because all nums[i] > 9 are equal to 10, but 5 is not a valid integer.\n",
        "\n",
        "You are allowed to perform the following operation on nums:\n",
        "\n",
        "Select an integer h that is valid for the current values in nums.\n",
        "For each index i where nums[i] > h, set nums[i] to h.\n",
        "Return the minimum number of operations required to make every element in nums equal to k. If it is impossible to make all elements equal to k, return -1."
      ],
      "metadata": {
        "id": "sWpNfFNiaQUM"
      }
    },
    {
      "cell_type": "code",
      "source": [
        "class Solution:\n",
        "    def minOperations(self, nums: List[int], k: int) -> int:\n",
        "        if min(nums) < k:\n",
        "            return -1\n",
        "        elif k in nums:\n",
        "            return len(set(nums))-1\n",
        "        else:\n",
        "            return len(set(nums))"
      ],
      "metadata": {
        "colab": {
          "base_uri": "https://localhost:8080/"
        },
        "id": "dwfuXNuOWvVS",
        "outputId": "204be8f1-3aeb-46e5-b26b-d72a8b69e828"
      },
      "execution_count": 5,
      "outputs": [
        {
          "output_type": "stream",
          "name": "stdout",
          "text": [
            "4\n"
          ]
        }
      ]
    },
    {
      "cell_type": "markdown",
      "source": [
        "The statement is confusing in the question. **Simple explaination**\n",
        "\n",
        "---\n",
        "[5,2,5,4,5], k = 2\n",
        "\n",
        "*   First step the max valid number is 4\n",
        "*   Now since the valid number is 4, we will replace 5 to 2 which is k\n",
        "*   Now the next valid number is 2 as the max will be 4.\n",
        "*   Now since the valid number is 2, we will replace 4 to 2 which is k\n",
        "\n",
        "Now all the elements in the list are 2 so we stop and since the operation were 2, the result will be 2\n",
        "\n",
        "\n",
        "\n",
        "\n"
      ],
      "metadata": {
        "id": "i6uxd5MRafNG"
      }
    }
  ]
}