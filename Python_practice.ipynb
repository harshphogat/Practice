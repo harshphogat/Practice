{
  "nbformat": 4,
  "nbformat_minor": 0,
  "metadata": {
    "colab": {
      "provenance": [],
      "authorship_tag": "ABX9TyNK4Aak4Hf/TFJwvoeoYBqC",
      "include_colab_link": true
    },
    "kernelspec": {
      "name": "python3",
      "display_name": "Python 3"
    },
    "language_info": {
      "name": "python"
    }
  },
  "cells": [
    {
      "cell_type": "markdown",
      "metadata": {
        "id": "view-in-github",
        "colab_type": "text"
      },
      "source": [
        "<a href=\"https://colab.research.google.com/github/harshphogat/Practice/blob/main/Python_practice.ipynb\" target=\"_parent\"><img src=\"https://colab.research.google.com/assets/colab-badge.svg\" alt=\"Open In Colab\"/></a>"
      ]
    },
    {
      "cell_type": "markdown",
      "source": [
        "**3396. Minimum Number of Operations to Make Elements in Array Distinct**\n",
        "\n",
        "You are given an integer array nums. You need to ensure that the elements in the array are distinct. To achieve this, you can perform the following operation any number of times:\n",
        "\n",
        "\n",
        "*   Remove 3 elements from the beginning of the array. If the array has fewer than 3 elements, remove all remaining elements.\n",
        "\n",
        "\n",
        "Note that an empty array is considered to have distinct elements. Return the minimum number of operations needed to make the elements in the array distinct."
      ],
      "metadata": {
        "id": "HyMohi4UMtNq"
      }
    },
    {
      "cell_type": "code",
      "execution_count": null,
      "metadata": {
        "id": "uq457zRGMkKw"
      },
      "outputs": [],
      "source": [
        "class Solution:\n",
        "    def minimumOperations(self, nums: List[int]) -> int:\n",
        "        count = 0\n",
        "        for num in nums:\n",
        "            if (len(set(nums)) != len(nums)):\n",
        "                nums = nums[3:]\n",
        "                count +=1\n",
        "            else:\n",
        "                break\n",
        "        return count"
      ]
    },
    {
      "cell_type": "markdown",
      "source": [
        "*In this code using set to get a list of **Unique values** and if the lentgh of the unique list is same as len of nums meaning no same element is present and the loop will break, else it will remove the first 3 elements and continue with the remaining list.*"
      ],
      "metadata": {
        "id": "hJ8f7MKZNOe-"
      }
    }
  ]
}